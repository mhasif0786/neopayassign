{
 "cells": [
  {
   "cell_type": "code",
   "execution_count": 2,
   "metadata": {},
   "outputs": [],
   "source": [
    "#example = [{x: 1}, {x: 2}, {x: 3}, {x: [{x: 4}, {x: 5}, {x: 6}, {x: [{x: 7}, {x: [{x: 8}]}]}]}, {x: 9}]"
   ]
  },
  {
   "cell_type": "code",
   "execution_count": 84,
   "metadata": {},
   "outputs": [],
   "source": [
    "a=[{\"x\": 1}, {\"x\": 2}, {\"x\": 3}, {\"x\": [{\"x\": 4}, {\"x\": 5}, {\"x\": 6}, {\"x\": [{\"x\": 7}, {\"x\": [{\"x\": 8}]}]}]}, {\"x\": 9}]"
   ]
  },
  {
   "cell_type": "code",
   "execution_count": 85,
   "metadata": {},
   "outputs": [
    {
     "data": {
      "text/plain": [
       "[{'x': 1},\n",
       " {'x': 2},\n",
       " {'x': 3},\n",
       " {'x': [{'x': 4}, {'x': 5}, {'x': 6}, {'x': [{'x': 7}, {'x': [{'x': 8}]}]}]},\n",
       " {'x': 9}]"
      ]
     },
     "execution_count": 85,
     "metadata": {},
     "output_type": "execute_result"
    }
   ],
   "source": [
    "a"
   ]
  },
  {
   "cell_type": "code",
   "execution_count": 86,
   "metadata": {},
   "outputs": [],
   "source": [
    "nsum=0\n",
    "def nested(y):\n",
    "    global nsum\n",
    "    for i in y:\n",
    "        if type(i[\"x\"])== int:\n",
    "            nsum=nsum+i[\"x\"]\n",
    "            print(\"nsum-----------\",nsum)\n",
    "        else:\n",
    "            nested(i[\"x\"])\n",
    "    return nsum "
   ]
  },
  {
   "cell_type": "code",
   "execution_count": 87,
   "metadata": {},
   "outputs": [
    {
     "name": "stdout",
     "output_type": "stream",
     "text": [
      "nsum----------- 1\n",
      "nsum----------- 3\n",
      "nsum----------- 6\n",
      "nsum----------- 10\n",
      "nsum----------- 15\n",
      "nsum----------- 21\n",
      "nsum----------- 28\n",
      "nsum----------- 36\n",
      "nsum----------- 45\n"
     ]
    }
   ],
   "source": [
    "d=nested([{'x': 1},\n",
    " {'x': 2},\n",
    " {'x': 3},\n",
    " {'x': [{'x': 4}, {'x': 5}, {'x': 6}, {'x': [{'x': 7}, {'x': [{'x': 8}]}]}]},\n",
    " {'x': 9}])"
   ]
  },
  {
   "cell_type": "code",
   "execution_count": 88,
   "metadata": {},
   "outputs": [
    {
     "name": "stdout",
     "output_type": "stream",
     "text": [
      "nestedsum= 45\n"
     ]
    }
   ],
   "source": [
    "print(\"nestedsum=\",d)"
   ]
  },
  {
   "cell_type": "code",
   "execution_count": null,
   "metadata": {},
   "outputs": [],
   "source": []
  },
  {
   "cell_type": "code",
   "execution_count": null,
   "metadata": {},
   "outputs": [],
   "source": []
  }
 ],
 "metadata": {
  "kernelspec": {
   "display_name": "Python 3",
   "language": "python",
   "name": "python3"
  },
  "language_info": {
   "codemirror_mode": {
    "name": "ipython",
    "version": 3
   },
   "file_extension": ".py",
   "mimetype": "text/x-python",
   "name": "python",
   "nbconvert_exporter": "python",
   "pygments_lexer": "ipython3",
   "version": "3.7.4"
  }
 },
 "nbformat": 4,
 "nbformat_minor": 2
}
