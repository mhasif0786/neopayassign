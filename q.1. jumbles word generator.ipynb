{
 "cells": [
  {
   "cell_type": "code",
   "execution_count": 69,
   "metadata": {},
   "outputs": [],
   "source": [
    "import pandas as pd"
   ]
  },
  {
   "cell_type": "code",
   "execution_count": 70,
   "metadata": {},
   "outputs": [],
   "source": [
    "x=pd.read_table(\"C:\\\\Users\\\\hp\\\\Desktop\\\\code\\\\dictionary.txt\", delim_whitespace=True, header=None)"
   ]
  },
  {
   "cell_type": "code",
   "execution_count": 71,
   "metadata": {},
   "outputs": [],
   "source": [
    "w=[]\n",
    "for i in range(x.size):\n",
    "    w.append(x[0][i])"
   ]
  },
  {
   "cell_type": "code",
   "execution_count": 133,
   "metadata": {},
   "outputs": [],
   "source": [
    "result=[]\n",
    "from itertools import permutations\n",
    "def calculatePermutations(sentence):\n",
    "    lis = list(sentence)\n",
    "    permute = permutations(lis)\n",
    "    for i in permute:\n",
    "        permutelist = list(i)\n",
    "        q=\"\".join(permutelist)\n",
    "        res = [ permutelist[i: j] for i in range(len(permutelist))\n",
    "          for j in range(i + 1, len( permutelist) + 1)]\n",
    "        for i in res:\n",
    "            r=\"\".join(i)\n",
    "            if len(r)>=3 and r in w:\n",
    "                result.append(r)\n",
    "    return result\n"
   ]
  },
  {
   "cell_type": "code",
   "execution_count": 142,
   "metadata": {},
   "outputs": [
    {
     "name": "stdout",
     "output_type": "stream",
     "text": [
      "blade\n"
     ]
    }
   ],
   "source": [
    "s=input()\n",
    "x=list(set(calculatePermutations(s)))"
   ]
  },
  {
   "cell_type": "code",
   "execution_count": 143,
   "metadata": {},
   "outputs": [
    {
     "data": {
      "text/plain": [
       "29"
      ]
     },
     "execution_count": 143,
     "metadata": {},
     "output_type": "execute_result"
    }
   ],
   "source": [
    "len(x)"
   ]
  },
  {
   "cell_type": "code",
   "execution_count": 144,
   "metadata": {},
   "outputs": [
    {
     "data": {
      "text/plain": [
       "['bled',\n",
       " 'del',\n",
       " 'dale',\n",
       " 'bel',\n",
       " 'abed',\n",
       " 'blade',\n",
       " 'deb',\n",
       " 'blae',\n",
       " 'bal',\n",
       " 'deal',\n",
       " 'dal',\n",
       " 'alb',\n",
       " 'dab',\n",
       " 'lead',\n",
       " 'baled',\n",
       " 'bead',\n",
       " 'able',\n",
       " 'lab',\n",
       " 'bad',\n",
       " 'bald',\n",
       " 'lade',\n",
       " 'eld',\n",
       " 'lad',\n",
       " 'ale',\n",
       " 'led',\n",
       " 'bale',\n",
       " 'bed',\n",
       " 'bade',\n",
       " 'lea']"
      ]
     },
     "execution_count": 144,
     "metadata": {},
     "output_type": "execute_result"
    }
   ],
   "source": [
    "x"
   ]
  },
  {
   "cell_type": "code",
   "execution_count": 137,
   "metadata": {},
   "outputs": [
    {
     "data": {
      "text/plain": [
       "True"
      ]
     },
     "execution_count": 137,
     "metadata": {},
     "output_type": "execute_result"
    }
   ],
   "source": [
    "\"alb\" in w"
   ]
  },
  {
   "cell_type": "code",
   "execution_count": 138,
   "metadata": {},
   "outputs": [
    {
     "data": {
      "text/plain": [
       "True"
      ]
     },
     "execution_count": 138,
     "metadata": {},
     "output_type": "execute_result"
    }
   ],
   "source": [
    "\"lab\" in w"
   ]
  },
  {
   "cell_type": "code",
   "execution_count": 146,
   "metadata": {},
   "outputs": [
    {
     "data": {
      "text/plain": [
       "False"
      ]
     },
     "execution_count": 146,
     "metadata": {},
     "output_type": "execute_result"
    }
   ],
   "source": [
    "\"abled\" in w"
   ]
  },
  {
   "cell_type": "code",
   "execution_count": null,
   "metadata": {},
   "outputs": [],
   "source": []
  }
 ],
 "metadata": {
  "kernelspec": {
   "display_name": "Python 3",
   "language": "python",
   "name": "python3"
  },
  "language_info": {
   "codemirror_mode": {
    "name": "ipython",
    "version": 3
   },
   "file_extension": ".py",
   "mimetype": "text/x-python",
   "name": "python",
   "nbconvert_exporter": "python",
   "pygments_lexer": "ipython3",
   "version": "3.7.4"
  }
 },
 "nbformat": 4,
 "nbformat_minor": 2
}
